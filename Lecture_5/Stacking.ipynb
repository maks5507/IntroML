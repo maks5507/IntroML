{
 "cells": [
  {
   "cell_type": "code",
   "execution_count": 15,
   "metadata": {
    "collapsed": true
   },
   "outputs": [],
   "source": [
    "import pandas as pd\n",
    "import numpy as np\n",
    "from sklearn import model_selection, ensemble"
   ]
  },
  {
   "cell_type": "code",
   "execution_count": 56,
   "metadata": {},
   "outputs": [],
   "source": [
    "def stack_pred(estimator, X, y, Xt, k=3, method='predict'):\n",
    "    arrayX = np.array(X)\n",
    "    arrayY = np.array(y)\n",
    "    arrayXt = np.array(Xt)\n",
    "    metaX = np.zeros((y.shape))\n",
    "    metaXt = np.zeros((k, y.shape[0]))\n",
    "    models = []\n",
    "    \n",
    "    kf = model_selection.KFold(n_splits=k, random_state=421, shuffle=True)\n",
    "    \n",
    "    for trainIndex, testIndex in kf.split(arrayX):\n",
    "        estimator.fit(arrayX[trainIndex], arrayY[trainIndex])\n",
    "        metaX[testIndex] = estimator.predict(arrayX[testIndex])\n",
    "        models.append(estimator)\n",
    "        \n",
    "    for i, model in enumerate(models):\n",
    "        metaXt[i] = model.predict(Xt)\n",
    "    \n",
    "    return metaX, np.mean(metaXt, axis=0)"
   ]
  }
 ],
 "metadata": {
  "kernelspec": {
   "display_name": "Python 2",
   "language": "python",
   "name": "python2"
  },
  "language_info": {
   "codemirror_mode": {
    "name": "ipython",
    "version": 2
   },
   "file_extension": ".py",
   "mimetype": "text/x-python",
   "name": "python",
   "nbconvert_exporter": "python",
   "pygments_lexer": "ipython2",
   "version": "2.7.13"
  }
 },
 "nbformat": 4,
 "nbformat_minor": 2
}
