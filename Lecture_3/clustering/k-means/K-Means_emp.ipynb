{
 "cells": [
  {
   "cell_type": "markdown",
   "metadata": {
    "toc": "true"
   },
   "source": [
    "# Table of Contents\n",
    " <p><div class=\"lev1 toc-item\"><a href=\"#Задание:\" data-toc-modified-id=\"Задание:-1\"><span class=\"toc-item-num\">1&nbsp;&nbsp;</span>Задание:</a></div><div class=\"lev3 toc-item\"><a href=\"#Проверить-работу-реализованного-алгоритма-с-различным-числом-кластеров:\" data-toc-modified-id=\"Проверить-работу-реализованного-алгоритма-с-различным-числом-кластеров:-101\"><span class=\"toc-item-num\">1.0.1&nbsp;&nbsp;</span>Проверить работу реализованного алгоритма с различным числом кластеров:</a></div><div class=\"lev3 toc-item\"><a href=\"#За-выполнение-ДЗ:\" data-toc-modified-id=\"За-выполнение-ДЗ:-102\"><span class=\"toc-item-num\">1.0.2&nbsp;&nbsp;</span>За выполнение ДЗ:</a></div>"
   ]
  },
  {
   "cell_type": "code",
   "execution_count": 100,
   "metadata": {
    "collapsed": true
   },
   "outputs": [],
   "source": [
    "import numpy as np\n",
    "import pandas as pd"
   ]
  },
  {
   "cell_type": "code",
   "execution_count": 101,
   "metadata": {
    "collapsed": true
   },
   "outputs": [],
   "source": [
    "import matplotlib.pyplot as plt"
   ]
  },
  {
   "cell_type": "code",
   "execution_count": 102,
   "metadata": {
    "collapsed": true
   },
   "outputs": [],
   "source": [
    "%matplotlib inline"
   ]
  },
  {
   "cell_type": "code",
   "execution_count": 154,
   "metadata": {},
   "outputs": [],
   "source": [
    "df = pd.read_csv('dataset2.csv', delimiter='\\t', header=None)"
   ]
  },
  {
   "cell_type": "markdown",
   "metadata": {},
   "source": [
    "# Задание:\n",
    "\n",
    "Реализовать алгоритм кластеризации k-means"
   ]
  },
  {
   "cell_type": "code",
   "execution_count": 160,
   "metadata": {
    "collapsed": true
   },
   "outputs": [],
   "source": [
    "EPS = 1e-6\n",
    "\n",
    "class KMeans:\n",
    "    NNN = 1000\n",
    "    \n",
    "    def __init__(self, n_clusters=2, metric='euclidean', max_iter=300):\n",
    "        '''\n",
    "        n_clusters - число кластеров\n",
    "        metric - метрика\n",
    "        max_iter - максимальное число итераций\n",
    "        '''\n",
    "        self.n_clusters = n_clusters\n",
    "        self.metric = metric\n",
    "        self.max_iter = max_iter\n",
    "\n",
    "    @staticmethod\n",
    "    def distance(vector1, vector2):\n",
    "        '''\n",
    "        Определяем функцию расстояния\n",
    "        '''\n",
    "        return np.linalg.norm(vector1 - vector2)\n",
    "    \n",
    "    def predict(self, X):\n",
    "        '''\n",
    "        Предсказываем попадание объектов из X в конкретный кластер\n",
    "        '''\n",
    "        return self.labels\n",
    "        \n",
    "    def fit(self, X):  \n",
    "        '''\n",
    "        Шаг 1 - Инизиализируем начальные положения центров кластеров\n",
    "        '''\n",
    "        \n",
    "        XX = np.array(X)\n",
    "        centers = XX[np.random.choice(np.arange(len(X)), self.n_clusters), :] \n",
    "        \n",
    "        '''\n",
    "        Шаг 2 - Выполняем уточнение положения центров кластеров до тех пор, пока \n",
    "        не будет превышено значение max_iter или центры кластеров не будут меняться \n",
    "        '''\n",
    "        for step in range(self.max_iter):            \n",
    "            '''\n",
    "            Шаг 2.1 - Вычисляем расстояние до цетров кластеров\n",
    "            '''\n",
    "            dist = []\n",
    "            for x in XX:\n",
    "                dist.append([self.distance(x, c) for c in centers])\n",
    "                        \n",
    "            '''\n",
    "            Шаг 2.2 - Для каждого объекта находим argmin от расстояний до центров\n",
    "            '''\n",
    "            curLabels = []\n",
    "            for i, x in enumerate(XX):\n",
    "                curLabels.append(np.argmin(dist[i]))\n",
    "            \n",
    "            '''\n",
    "            Шаг 2.3 - Уточняеням положения центров кластеров\n",
    "            '''\n",
    "            curLabels = np.array(curLabels)\n",
    "            ncenters = [XX[curLabels == c].mean(axis=0) for c in range(self.n_clusters)]\n",
    "            \n",
    "            if np.sum(np.abs(np.array(ncenters) - np.array(centers))) < EPS:\n",
    "                centers = ncenters\n",
    "                break\n",
    "            centers = ncenters\n",
    "            \n",
    "        '''\n",
    "        Шаг 3 - Сохраняем положения центров кластеров\n",
    "        ''' \n",
    "        self.centers = centers\n",
    "        self.labels = curLabels\n",
    "        \n",
    "        '''\n",
    "        Шаг 4 - Возвращяем предсказание\n",
    "        '''        \n",
    "        return self.predict(XX)"
   ]
  },
  {
   "cell_type": "markdown",
   "metadata": {
    "collapsed": true
   },
   "source": [
    "### Проверить работу реализованного алгоритма с различным числом кластеров:\n",
    "* Для тестовых наборов данных (dataset1, dataset2, dataset3)\n",
    "* Для задачи кластеризации цветов на изображении (пример в k-means_photo_clusterization)"
   ]
  },
  {
   "cell_type": "markdown",
   "metadata": {},
   "source": [
    "### За выполнение ДЗ: \n",
    "* 6 баллов за реализацию алгоритма\n",
    "* +2 балла за возможность выбора метрики\n",
    "    - Евклидово расстояние\n",
    "    - Расстояние Чебышева\n",
    "    - Манхэттенское расстояние"
   ]
  },
  {
   "cell_type": "code",
   "execution_count": 161,
   "metadata": {
    "collapsed": true
   },
   "outputs": [],
   "source": [
    "model = KMeans(n_clusters=3)"
   ]
  },
  {
   "cell_type": "code",
   "execution_count": 162,
   "metadata": {
    "scrolled": false
   },
   "outputs": [],
   "source": [
    "labels = model.fit(df)"
   ]
  },
  {
   "cell_type": "code",
   "execution_count": 163,
   "metadata": {
    "scrolled": false
   },
   "outputs": [
    {
     "data": {
      "text/plain": [
       "(1200,)"
      ]
     },
     "execution_count": 163,
     "metadata": {},
     "output_type": "execute_result"
    }
   ],
   "source": [
    "labels.shape"
   ]
  },
  {
   "cell_type": "code",
   "execution_count": 164,
   "metadata": {},
   "outputs": [
    {
     "data": {
      "text/plain": [
       "(1200, 2)"
      ]
     },
     "execution_count": 164,
     "metadata": {},
     "output_type": "execute_result"
    }
   ],
   "source": [
    "df.shape"
   ]
  },
  {
   "cell_type": "code",
   "execution_count": 165,
   "metadata": {
    "scrolled": false
   },
   "outputs": [
    {
     "data": {
      "image/png": "[encoded data removed]",
      "text/plain": [
       "<matplotlib.figure.Figure at 0x11aa2d450>"
      ]
     },
     "metadata": {},
     "output_type": "display_data"
    }
   ],
   "source": [
    "plt.scatter(df[0], df[1], c=labels)\n",
    "plt.show()"
   ]
  },
  {
   "cell_type": "code",
   "execution_count": null,
   "metadata": {
    "collapsed": true
   },
   "outputs": [],
   "source": []
  }
 ],
 "metadata": {
  "kernelspec": {
   "display_name": "Python 2",
   "language": "python",
   "name": "python2"
  },
  "language_info": {
   "codemirror_mode": {
    "name": "ipython",
    "version": 2
   },
   "file_extension": ".py",
   "mimetype": "text/x-python",
   "name": "python",
   "nbconvert_exporter": "python",
   "pygments_lexer": "ipython2",
   "version": "2.7.13"
  },
  "toc": {
   "colors": {
    "hover_highlight": "#DAA520",
    "navigate_num": "#000000",
    "navigate_text": "#333333",
    "running_highlight": "#FF0000",
    "selected_highlight": "#FFD700",
    "sidebar_border": "#EEEEEE",
    "wrapper_background": "#FFFFFF"
   },
   "moveMenuLeft": true,
   "nav_menu": {
    "height": "30px",
    "width": "251px"
   },
   "navigate_menu": true,
   "number_sections": true,
   "sideBar": true,
   "threshold": 4,
   "toc_cell": true,
   "toc_section_display": "block",
   "toc_window_display": false,
   "widenNotebook": false
  }
 },
 "nbformat": 4,
 "nbformat_minor": 2
}
